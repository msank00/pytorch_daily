{
 "cells": [
  {
   "cell_type": "markdown",
   "metadata": {},
   "source": [
    "- [data_source](https://archive.ics.uci.edu/ml/machine-learning-databases/wine-quality/)\n",
    "- [org notebook](https://github.com/theairbend3r/how-to-train-your-neural-net/blob/master/pytorch/tabular/regression/multiple%20_regression_wine.ipynb)"
   ]
  },
  {
   "cell_type": "code",
   "execution_count": 1,
   "metadata": {},
   "outputs": [],
   "source": [
    "%load_ext autoreload\n",
    "%autoreload 2"
   ]
  },
  {
   "cell_type": "code",
   "execution_count": 2,
   "metadata": {},
   "outputs": [],
   "source": [
    "from myutil.genutil import create_directory\n",
    "from myutil.torchutil import Reproducibility \n",
    "from myutil.plotutil import PublishQualityPlot"
   ]
  },
  {
   "cell_type": "code",
   "execution_count": 3,
   "metadata": {},
   "outputs": [],
   "source": [
    "import warnings\n",
    "warnings.filterwarnings(\"ignore\")"
   ]
  },
  {
   "cell_type": "code",
   "execution_count": 4,
   "metadata": {},
   "outputs": [],
   "source": [
    "import numpy as np\n",
    "import pandas as pd\n",
    "import seaborn as sns\n",
    "from tqdm.notebook import tqdm\n",
    "import matplotlib.pyplot as plt\n",
    "\n",
    "import torch\n",
    "import torch.nn as nn\n",
    "import torch.optim as optim\n",
    "from torch.utils.data import Dataset, DataLoader\n",
    "\n",
    "from sklearn.preprocessing import MinMaxScaler    \n",
    "from sklearn.model_selection import train_test_split\n",
    "from sklearn.metrics import mean_squared_error, r2_score"
   ]
  },
  {
   "cell_type": "code",
   "execution_count": 5,
   "metadata": {},
   "outputs": [],
   "source": [
    "%matplotlib inline\n",
    "import seaborn as sns"
   ]
  },
  {
   "cell_type": "code",
   "execution_count": 6,
   "metadata": {},
   "outputs": [],
   "source": [
    "DIR_DATA = \"data\"\n",
    "DIR_OUTPUT = \"output\"\n",
    "SEED = 2020"
   ]
  },
  {
   "cell_type": "code",
   "execution_count": 7,
   "metadata": {},
   "outputs": [
    {
     "name": "stdout",
     "output_type": "stream",
     "text": [
      "Directory: data/ already exists.\n",
      "Directory: output/ already exists.\n"
     ]
    }
   ],
   "source": [
    "create_directory(DIR_DATA)\n",
    "create_directory(DIR_OUTPUT)"
   ]
  },
  {
   "cell_type": "code",
   "execution_count": 8,
   "metadata": {},
   "outputs": [],
   "source": [
    "rp = Reproducibility(seed=SEED)\n",
    "rp.seed_everything()"
   ]
  },
  {
   "cell_type": "code",
   "execution_count": 9,
   "metadata": {},
   "outputs": [
    {
     "name": "stdout",
     "output_type": "stream",
     "text": [
      "We're using cuda? False\n"
     ]
    }
   ],
   "source": [
    "print(\"We're using cuda?\", torch.cuda.is_available())"
   ]
  },
  {
   "cell_type": "code",
   "execution_count": 10,
   "metadata": {},
   "outputs": [],
   "source": [
    "df = pd.read_csv(\"data/winequality-red.csv\", delimiter=\";\")"
   ]
  },
  {
   "cell_type": "code",
   "execution_count": 11,
   "metadata": {},
   "outputs": [
    {
     "data": {
      "text/html": [
       "<div>\n",
       "<style scoped>\n",
       "    .dataframe tbody tr th:only-of-type {\n",
       "        vertical-align: middle;\n",
       "    }\n",
       "\n",
       "    .dataframe tbody tr th {\n",
       "        vertical-align: top;\n",
       "    }\n",
       "\n",
       "    .dataframe thead th {\n",
       "        text-align: right;\n",
       "    }\n",
       "</style>\n",
       "<table border=\"1\" class=\"dataframe\">\n",
       "  <thead>\n",
       "    <tr style=\"text-align: right;\">\n",
       "      <th></th>\n",
       "      <th>fixed acidity</th>\n",
       "      <th>volatile acidity</th>\n",
       "      <th>citric acid</th>\n",
       "      <th>residual sugar</th>\n",
       "      <th>chlorides</th>\n",
       "      <th>free sulfur dioxide</th>\n",
       "      <th>total sulfur dioxide</th>\n",
       "      <th>density</th>\n",
       "      <th>pH</th>\n",
       "      <th>sulphates</th>\n",
       "      <th>alcohol</th>\n",
       "      <th>quality</th>\n",
       "    </tr>\n",
       "  </thead>\n",
       "  <tbody>\n",
       "    <tr>\n",
       "      <th>0</th>\n",
       "      <td>7.4</td>\n",
       "      <td>0.70</td>\n",
       "      <td>0.00</td>\n",
       "      <td>1.9</td>\n",
       "      <td>0.076</td>\n",
       "      <td>11.0</td>\n",
       "      <td>34.0</td>\n",
       "      <td>0.9978</td>\n",
       "      <td>3.51</td>\n",
       "      <td>0.56</td>\n",
       "      <td>9.4</td>\n",
       "      <td>5</td>\n",
       "    </tr>\n",
       "    <tr>\n",
       "      <th>1</th>\n",
       "      <td>7.8</td>\n",
       "      <td>0.88</td>\n",
       "      <td>0.00</td>\n",
       "      <td>2.6</td>\n",
       "      <td>0.098</td>\n",
       "      <td>25.0</td>\n",
       "      <td>67.0</td>\n",
       "      <td>0.9968</td>\n",
       "      <td>3.20</td>\n",
       "      <td>0.68</td>\n",
       "      <td>9.8</td>\n",
       "      <td>5</td>\n",
       "    </tr>\n",
       "    <tr>\n",
       "      <th>2</th>\n",
       "      <td>7.8</td>\n",
       "      <td>0.76</td>\n",
       "      <td>0.04</td>\n",
       "      <td>2.3</td>\n",
       "      <td>0.092</td>\n",
       "      <td>15.0</td>\n",
       "      <td>54.0</td>\n",
       "      <td>0.9970</td>\n",
       "      <td>3.26</td>\n",
       "      <td>0.65</td>\n",
       "      <td>9.8</td>\n",
       "      <td>5</td>\n",
       "    </tr>\n",
       "    <tr>\n",
       "      <th>3</th>\n",
       "      <td>11.2</td>\n",
       "      <td>0.28</td>\n",
       "      <td>0.56</td>\n",
       "      <td>1.9</td>\n",
       "      <td>0.075</td>\n",
       "      <td>17.0</td>\n",
       "      <td>60.0</td>\n",
       "      <td>0.9980</td>\n",
       "      <td>3.16</td>\n",
       "      <td>0.58</td>\n",
       "      <td>9.8</td>\n",
       "      <td>6</td>\n",
       "    </tr>\n",
       "    <tr>\n",
       "      <th>4</th>\n",
       "      <td>7.4</td>\n",
       "      <td>0.70</td>\n",
       "      <td>0.00</td>\n",
       "      <td>1.9</td>\n",
       "      <td>0.076</td>\n",
       "      <td>11.0</td>\n",
       "      <td>34.0</td>\n",
       "      <td>0.9978</td>\n",
       "      <td>3.51</td>\n",
       "      <td>0.56</td>\n",
       "      <td>9.4</td>\n",
       "      <td>5</td>\n",
       "    </tr>\n",
       "  </tbody>\n",
       "</table>\n",
       "</div>"
      ],
      "text/plain": [
       "   fixed acidity  volatile acidity  citric acid  residual sugar  chlorides  \\\n",
       "0            7.4              0.70         0.00             1.9      0.076   \n",
       "1            7.8              0.88         0.00             2.6      0.098   \n",
       "2            7.8              0.76         0.04             2.3      0.092   \n",
       "3           11.2              0.28         0.56             1.9      0.075   \n",
       "4            7.4              0.70         0.00             1.9      0.076   \n",
       "\n",
       "   free sulfur dioxide  total sulfur dioxide  density    pH  sulphates  \\\n",
       "0                 11.0                  34.0   0.9978  3.51       0.56   \n",
       "1                 25.0                  67.0   0.9968  3.20       0.68   \n",
       "2                 15.0                  54.0   0.9970  3.26       0.65   \n",
       "3                 17.0                  60.0   0.9980  3.16       0.58   \n",
       "4                 11.0                  34.0   0.9978  3.51       0.56   \n",
       "\n",
       "   alcohol  quality  \n",
       "0      9.4        5  \n",
       "1      9.8        5  \n",
       "2      9.8        5  \n",
       "3      9.8        6  \n",
       "4      9.4        5  "
      ]
     },
     "execution_count": 11,
     "metadata": {},
     "output_type": "execute_result"
    }
   ],
   "source": [
    "df.head()"
   ]
  },
  {
   "cell_type": "code",
   "execution_count": 12,
   "metadata": {},
   "outputs": [],
   "source": [
    "pqp = PublishQualityPlot()\n",
    "pqp.set_params()"
   ]
  },
  {
   "cell_type": "code",
   "execution_count": 13,
   "metadata": {},
   "outputs": [
    {
     "data": {
      "text/plain": [
       "['seaborn-muted',\n",
       " 'seaborn-deep',\n",
       " 'seaborn-colorblind',\n",
       " 'seaborn-bright',\n",
       " 'seaborn-pastel']"
      ]
     },
     "execution_count": 13,
     "metadata": {},
     "output_type": "execute_result"
    }
   ],
   "source": [
    "pqp.preferable_plot_style()"
   ]
  },
  {
   "cell_type": "code",
   "execution_count": 14,
   "metadata": {},
   "outputs": [
    {
     "data": {
      "image/png": "[encoded data removed]",
      "text/plain": [
       "<Figure size 432x288 with 1 Axes>"
      ]
     },
     "metadata": {
      "needs_background": "light"
     },
     "output_type": "display_data"
    }
   ],
   "source": [
    "with plt.style.context('seaborn-colorblind'):\n",
    "    sns.countplot(x = 'quality', data=df)\n",
    "    plt.title(\"Target Distribution\", fontsize=15, fontweight='bold')\n",
    "    plt.ylabel(\"Count\", size=15, fontweight='bold')\n",
    "    plt.xlabel(\"Quality\", size=15, fontweight='bold')\n",
    "    sns.despine(bottom=True)\n",
    "    plt.grid(alpha=0.2)\n",
    "    plt.tight_layout()\n",
    "    plt.show()"
   ]
  },
  {
   "cell_type": "code",
   "execution_count": 15,
   "metadata": {},
   "outputs": [],
   "source": [
    "X = df.iloc[:, 0:-1]\n",
    "y = df.iloc[:, -1]"
   ]
  },
  {
   "cell_type": "code",
   "execution_count": 16,
   "metadata": {},
   "outputs": [],
   "source": [
    "# Train - Test\n",
    "X_trainval, X_test, y_trainval, y_test = train_test_split(X, y, test_size=0.2, stratify=y, random_state=69)\n",
    "\n",
    "# Split train into train-val\n",
    "X_train, X_val, y_train, y_val = train_test_split(X_trainval, y_trainval, test_size=0.1, stratify=y_trainval, random_state=21)\n"
   ]
  },
  {
   "cell_type": "code",
   "execution_count": 17,
   "metadata": {},
   "outputs": [],
   "source": [
    "scaler = MinMaxScaler()\n",
    "X_train = scaler.fit_transform(X_train)\n",
    "X_val = scaler.transform(X_val)\n",
    "X_test = scaler.transform(X_test)\n"
   ]
  },
  {
   "cell_type": "code",
   "execution_count": 18,
   "metadata": {},
   "outputs": [],
   "source": [
    "X_train, y_train = np.array(X_train), np.array(y_train)\n",
    "X_val, y_val = np.array(X_val), np.array(y_val)\n",
    "X_test, y_test = np.array(X_test), np.array(y_test)"
   ]
  },
  {
   "cell_type": "code",
   "execution_count": 19,
   "metadata": {},
   "outputs": [],
   "source": [
    "def get_class_distribution(obj):\n",
    "    count_dict = {\n",
    "        \"rating_3\": 0,\n",
    "        \"rating_4\": 0,\n",
    "        \"rating_5\": 0,\n",
    "        \"rating_6\": 0,\n",
    "        \"rating_7\": 0,\n",
    "        \"rating_8\": 0,\n",
    "    }\n",
    "    \n",
    "    for i in obj:\n",
    "        if i == 3: \n",
    "            count_dict['rating_3'] += 1\n",
    "        elif i == 4: \n",
    "            count_dict['rating_4'] += 1\n",
    "        elif i == 5: \n",
    "            count_dict['rating_5'] += 1\n",
    "        elif i == 6: \n",
    "            count_dict['rating_6'] += 1\n",
    "        elif i == 7: \n",
    "            count_dict['rating_7'] += 1  \n",
    "        elif i == 8: \n",
    "            count_dict['rating_8'] += 1              \n",
    "        else:\n",
    "            print(\"Check classes.\")\n",
    "            \n",
    "    return count_dict\n"
   ]
  },
  {
   "cell_type": "code",
   "execution_count": 20,
   "metadata": {},
   "outputs": [
    {
     "name": "stdout",
     "output_type": "stream",
     "text": [
      "Train: {'rating_3': 7, 'rating_4': 38, 'rating_5': 490, 'rating_6': 459, 'rating_7': 143, 'rating_8': 14}\n",
      "Test : {'rating_3': 2, 'rating_4': 11, 'rating_5': 136, 'rating_6': 128, 'rating_7': 40, 'rating_8': 3}\n",
      "Val  : {'rating_3': 1, 'rating_4': 4, 'rating_5': 55, 'rating_6': 51, 'rating_7': 16, 'rating_8': 1}\n"
     ]
    }
   ],
   "source": [
    "print(\"Train:\", get_class_distribution(y_train))\n",
    "print(\"Test :\", get_class_distribution(y_test))\n",
    "print(\"Val  :\", get_class_distribution(y_val))"
   ]
  },
  {
   "cell_type": "code",
   "execution_count": 40,
   "metadata": {},
   "outputs": [
    {
     "data": {
      "image/png": "[encoded data removed]",
      "text/plain": [
       "<Figure size 1800x504 with 3 Axes>"
      ]
     },
     "metadata": {
      "needs_background": "light"
     },
     "output_type": "display_data"
    }
   ],
   "source": [
    "with plt.style.context('seaborn-colorblind'):\n",
    "    fig, axes = plt.subplots(nrows=1, ncols=3, figsize=(25,7))\n",
    "    sns.barplot(data = pd.DataFrame.from_dict([get_class_distribution(y_train)]).melt(), x = \"variable\", y=\"value\", hue=\"variable\",  ax=axes[0]).set_title('Class Distribution in Train Set')\n",
    "    sns.barplot(data = pd.DataFrame.from_dict([get_class_distribution(y_val)]).melt(), x = \"variable\", y=\"value\", hue=\"variable\",  ax=axes[1]).set_title('Class Distribution in Val Set')\n",
    "    sns.barplot(data = pd.DataFrame.from_dict([get_class_distribution(y_test)]).melt(), x = \"variable\", y=\"value\", hue=\"variable\",  ax=axes[2]).set_title('Class Distribution in Test Set')"
   ]
  },
  {
   "cell_type": "code",
   "execution_count": 22,
   "metadata": {},
   "outputs": [],
   "source": [
    "y_train, y_test, y_val = y_train.astype(float), y_test.astype(float), y_val.astype(float)"
   ]
  },
  {
   "cell_type": "code",
   "execution_count": 23,
   "metadata": {},
   "outputs": [],
   "source": [
    "class RegressionDataset(Dataset):\n",
    "    \n",
    "    def __init__(self, X_data, y_data):\n",
    "        self.X_data = X_data\n",
    "        self.y_data = y_data\n",
    "        \n",
    "    def __getitem__(self, index):\n",
    "        return self.X_data[index], self.y_data[index]\n",
    "        \n",
    "    def __len__ (self):\n",
    "        return len(self.X_data)\n",
    "\n",
    "\n",
    "train_dataset = RegressionDataset(torch.from_numpy(X_train).float(), torch.from_numpy(y_train).float())\n",
    "val_dataset = RegressionDataset(torch.from_numpy(X_val).float(), torch.from_numpy(y_val).float())\n",
    "test_dataset = RegressionDataset(torch.from_numpy(X_test).float(), torch.from_numpy(y_test).float())\n"
   ]
  },
  {
   "cell_type": "code",
   "execution_count": 24,
   "metadata": {},
   "outputs": [],
   "source": [
    "EPOCHS = 150\n",
    "BATCH_SIZE = 64\n",
    "LEARNING_RATE = 0.001\n",
    "\n",
    "NUM_FEATURES = len(X.columns)"
   ]
  },
  {
   "cell_type": "code",
   "execution_count": 25,
   "metadata": {},
   "outputs": [],
   "source": [
    "train_loader = DataLoader(dataset=train_dataset, batch_size=BATCH_SIZE, shuffle=True)\n",
    "val_loader = DataLoader(dataset=val_dataset, batch_size=1)\n",
    "test_loader = DataLoader(dataset=test_dataset, batch_size=1)\n"
   ]
  },
  {
   "cell_type": "code",
   "execution_count": 26,
   "metadata": {},
   "outputs": [],
   "source": [
    "class MultipleRegression(nn.Module):\n",
    "    def __init__(self, num_features):\n",
    "        super(MultipleRegression, self).__init__()\n",
    "        \n",
    "        self.layer_1 = nn.Linear(num_features, 16)\n",
    "        self.layer_2 = nn.Linear(16, 32)\n",
    "        self.layer_3 = nn.Linear(32, 16)\n",
    "        self.layer_out = nn.Linear(16, 1)\n",
    "        \n",
    "        self.relu = nn.ReLU()\n",
    "\n",
    "    def forward(self, inputs):\n",
    "        x = self.relu(self.layer_1(inputs))\n",
    "        x = self.relu(self.layer_2(x))\n",
    "        x = self.relu(self.layer_3(x))\n",
    "        x = self.layer_out(x)\n",
    "\n",
    "        \n",
    "        return (x)\n",
    "\n",
    "    def predict(self, test_inputs):\n",
    "        x = self.relu(self.layer_1(test_inputs))\n",
    "        x = self.relu(self.layer_2(x))\n",
    "        x = self.relu(self.layer_3(x))\n",
    "        x = self.layer_out(x)\n",
    "\n",
    "        \n",
    "        return (x)\n"
   ]
  },
  {
   "cell_type": "code",
   "execution_count": 27,
   "metadata": {},
   "outputs": [
    {
     "name": "stdout",
     "output_type": "stream",
     "text": [
      "cpu\n"
     ]
    }
   ],
   "source": [
    "device = torch.device(\"cuda:0\" if torch.cuda.is_available() else \"cpu\")\n",
    "print(device)"
   ]
  },
  {
   "cell_type": "code",
   "execution_count": 28,
   "metadata": {},
   "outputs": [
    {
     "name": "stdout",
     "output_type": "stream",
     "text": [
      "MultipleRegression(\n",
      "  (layer_1): Linear(in_features=11, out_features=16, bias=True)\n",
      "  (layer_2): Linear(in_features=16, out_features=32, bias=True)\n",
      "  (layer_3): Linear(in_features=32, out_features=16, bias=True)\n",
      "  (layer_out): Linear(in_features=16, out_features=1, bias=True)\n",
      "  (relu): ReLU()\n",
      ")\n"
     ]
    }
   ],
   "source": [
    "model = MultipleRegression(NUM_FEATURES)\n",
    "model.to(device)\n",
    "\n",
    "print(model)\n",
    "\n",
    "criterion = nn.MSELoss()\n",
    "optimizer = optim.Adam(model.parameters(), lr=LEARNING_RATE)"
   ]
  },
  {
   "cell_type": "code",
   "execution_count": 29,
   "metadata": {},
   "outputs": [],
   "source": [
    "loss_stats = {\n",
    "    'train': [],\n",
    "    \"val\": []\n",
    "}"
   ]
  },
  {
   "cell_type": "code",
   "execution_count": 30,
   "metadata": {},
   "outputs": [
    {
     "name": "stdout",
     "output_type": "stream",
     "text": [
      "Begin training.\n"
     ]
    },
    {
     "data": {
      "application/vnd.jupyter.widget-view+json": {
       "model_id": "bd39009eafc74bb7bd0050cf2802010e",
       "version_major": 2,
       "version_minor": 0
      },
      "text/plain": [
       "HBox(children=(IntProgress(value=0, max=150), HTML(value='')))"
      ]
     },
     "metadata": {},
     "output_type": "display_data"
    },
    {
     "name": "stdout",
     "output_type": "stream",
     "text": [
      "Epoch 001: | Train Loss: 32.55413 | Val Loss: 31.14209\n",
      "Epoch 002: | Train Loss: 29.79595 | Val Loss: 27.60742\n",
      "Epoch 003: | Train Loss: 25.00641 | Val Loss: 20.98050\n",
      "Epoch 004: | Train Loss: 16.07939 | Val Loss: 9.73178\n",
      "Epoch 005: | Train Loss: 4.92963 | Val Loss: 1.20624\n",
      "Epoch 006: | Train Loss: 0.97799 | Val Loss: 1.18851\n",
      "Epoch 007: | Train Loss: 0.86158 | Val Loss: 0.89877\n",
      "Epoch 008: | Train Loss: 0.80642 | Val Loss: 0.87568\n",
      "Epoch 009: | Train Loss: 0.77948 | Val Loss: 0.85101\n",
      "Epoch 010: | Train Loss: 0.76112 | Val Loss: 0.82755\n",
      "Epoch 011: | Train Loss: 0.74286 | Val Loss: 0.79635\n",
      "Epoch 012: | Train Loss: 0.71767 | Val Loss: 0.75460\n",
      "Epoch 013: | Train Loss: 0.69278 | Val Loss: 0.71166\n",
      "Epoch 014: | Train Loss: 0.66224 | Val Loss: 0.66894\n",
      "Epoch 015: | Train Loss: 0.63614 | Val Loss: 0.63906\n",
      "Epoch 016: | Train Loss: 0.61248 | Val Loss: 0.59652\n",
      "Epoch 017: | Train Loss: 0.59217 | Val Loss: 0.56843\n",
      "Epoch 018: | Train Loss: 0.57083 | Val Loss: 0.53850\n",
      "Epoch 019: | Train Loss: 0.55534 | Val Loss: 0.52066\n",
      "Epoch 020: | Train Loss: 0.54027 | Val Loss: 0.49594\n",
      "Epoch 021: | Train Loss: 0.53059 | Val Loss: 0.48283\n",
      "Epoch 022: | Train Loss: 0.52145 | Val Loss: 0.46854\n",
      "Epoch 023: | Train Loss: 0.51398 | Val Loss: 0.46407\n",
      "Epoch 024: | Train Loss: 0.50724 | Val Loss: 0.45275\n",
      "Epoch 025: | Train Loss: 0.50128 | Val Loss: 0.44366\n",
      "Epoch 026: | Train Loss: 0.49684 | Val Loss: 0.43967\n",
      "Epoch 027: | Train Loss: 0.49290 | Val Loss: 0.43169\n",
      "Epoch 028: | Train Loss: 0.49024 | Val Loss: 0.42761\n",
      "Epoch 029: | Train Loss: 0.48588 | Val Loss: 0.42685\n",
      "Epoch 030: | Train Loss: 0.48270 | Val Loss: 0.41954\n",
      "Epoch 031: | Train Loss: 0.48015 | Val Loss: 0.41737\n",
      "Epoch 032: | Train Loss: 0.47903 | Val Loss: 0.41777\n",
      "Epoch 033: | Train Loss: 0.47448 | Val Loss: 0.41071\n",
      "Epoch 034: | Train Loss: 0.47354 | Val Loss: 0.40864\n",
      "Epoch 035: | Train Loss: 0.47047 | Val Loss: 0.40779\n",
      "Epoch 036: | Train Loss: 0.47185 | Val Loss: 0.40523\n",
      "Epoch 037: | Train Loss: 0.46642 | Val Loss: 0.40393\n",
      "Epoch 038: | Train Loss: 0.46637 | Val Loss: 0.40276\n",
      "Epoch 039: | Train Loss: 0.46389 | Val Loss: 0.40251\n",
      "Epoch 040: | Train Loss: 0.46203 | Val Loss: 0.39939\n",
      "Epoch 041: | Train Loss: 0.46050 | Val Loss: 0.39814\n",
      "Epoch 042: | Train Loss: 0.45848 | Val Loss: 0.39708\n",
      "Epoch 043: | Train Loss: 0.45742 | Val Loss: 0.39553\n",
      "Epoch 044: | Train Loss: 0.45934 | Val Loss: 0.39566\n",
      "Epoch 045: | Train Loss: 0.45376 | Val Loss: 0.40182\n",
      "Epoch 046: | Train Loss: 0.45329 | Val Loss: 0.39300\n",
      "Epoch 047: | Train Loss: 0.45192 | Val Loss: 0.40234\n",
      "Epoch 048: | Train Loss: 0.45668 | Val Loss: 0.40045\n",
      "Epoch 049: | Train Loss: 0.45840 | Val Loss: 0.39086\n",
      "Epoch 050: | Train Loss: 0.45058 | Val Loss: 0.39135\n",
      "Epoch 051: | Train Loss: 0.44784 | Val Loss: 0.38961\n",
      "Epoch 052: | Train Loss: 0.44718 | Val Loss: 0.39112\n",
      "Epoch 053: | Train Loss: 0.44640 | Val Loss: 0.38839\n",
      "Epoch 054: | Train Loss: 0.44576 | Val Loss: 0.38805\n",
      "Epoch 055: | Train Loss: 0.44553 | Val Loss: 0.38988\n",
      "Epoch 056: | Train Loss: 0.44391 | Val Loss: 0.38655\n",
      "Epoch 057: | Train Loss: 0.44384 | Val Loss: 0.38627\n",
      "Epoch 058: | Train Loss: 0.44714 | Val Loss: 0.40462\n",
      "Epoch 059: | Train Loss: 0.44628 | Val Loss: 0.38684\n",
      "Epoch 060: | Train Loss: 0.44154 | Val Loss: 0.38936\n",
      "Epoch 061: | Train Loss: 0.43984 | Val Loss: 0.38397\n",
      "Epoch 062: | Train Loss: 0.43927 | Val Loss: 0.38292\n",
      "Epoch 063: | Train Loss: 0.44220 | Val Loss: 0.39100\n",
      "Epoch 064: | Train Loss: 0.43925 | Val Loss: 0.39002\n",
      "Epoch 065: | Train Loss: 0.44268 | Val Loss: 0.38234\n",
      "Epoch 066: | Train Loss: 0.43998 | Val Loss: 0.38113\n",
      "Epoch 067: | Train Loss: 0.43752 | Val Loss: 0.39101\n",
      "Epoch 068: | Train Loss: 0.43795 | Val Loss: 0.38028\n",
      "Epoch 069: | Train Loss: 0.43885 | Val Loss: 0.38240\n",
      "Epoch 070: | Train Loss: 0.43555 | Val Loss: 0.37982\n",
      "Epoch 071: | Train Loss: 0.43314 | Val Loss: 0.37862\n",
      "Epoch 072: | Train Loss: 0.43394 | Val Loss: 0.37951\n",
      "Epoch 073: | Train Loss: 0.43138 | Val Loss: 0.40843\n",
      "Epoch 074: | Train Loss: 0.43628 | Val Loss: 0.37778\n",
      "Epoch 075: | Train Loss: 0.43079 | Val Loss: 0.38040\n",
      "Epoch 076: | Train Loss: 0.43208 | Val Loss: 0.37872\n",
      "Epoch 077: | Train Loss: 0.43292 | Val Loss: 0.37595\n",
      "Epoch 078: | Train Loss: 0.43024 | Val Loss: 0.37719\n",
      "Epoch 079: | Train Loss: 0.43097 | Val Loss: 0.37874\n",
      "Epoch 080: | Train Loss: 0.42889 | Val Loss: 0.37665\n",
      "Epoch 081: | Train Loss: 0.43702 | Val Loss: 0.38434\n",
      "Epoch 082: | Train Loss: 0.43597 | Val Loss: 0.38505\n",
      "Epoch 083: | Train Loss: 0.43090 | Val Loss: 0.38423\n",
      "Epoch 084: | Train Loss: 0.42877 | Val Loss: 0.38382\n",
      "Epoch 085: | Train Loss: 0.43356 | Val Loss: 0.37684\n",
      "Epoch 086: | Train Loss: 0.42669 | Val Loss: 0.37471\n",
      "Epoch 087: | Train Loss: 0.42569 | Val Loss: 0.37316\n",
      "Epoch 088: | Train Loss: 0.42618 | Val Loss: 0.38061\n",
      "Epoch 089: | Train Loss: 0.43004 | Val Loss: 0.38329\n",
      "Epoch 090: | Train Loss: 0.42808 | Val Loss: 0.37130\n",
      "Epoch 091: | Train Loss: 0.42603 | Val Loss: 0.37233\n",
      "Epoch 092: | Train Loss: 0.42510 | Val Loss: 0.37656\n",
      "Epoch 093: | Train Loss: 0.42445 | Val Loss: 0.37079\n",
      "Epoch 094: | Train Loss: 0.42475 | Val Loss: 0.37184\n",
      "Epoch 095: | Train Loss: 0.42454 | Val Loss: 0.37117\n",
      "Epoch 096: | Train Loss: 0.42562 | Val Loss: 0.37134\n",
      "Epoch 097: | Train Loss: 0.42604 | Val Loss: 0.37044\n",
      "Epoch 098: | Train Loss: 0.42507 | Val Loss: 0.36965\n",
      "Epoch 099: | Train Loss: 0.42260 | Val Loss: 0.37098\n",
      "Epoch 100: | Train Loss: 0.42460 | Val Loss: 0.37463\n",
      "Epoch 101: | Train Loss: 0.42120 | Val Loss: 0.37059\n",
      "Epoch 102: | Train Loss: 0.42547 | Val Loss: 0.36993\n",
      "Epoch 103: | Train Loss: 0.42978 | Val Loss: 0.38534\n",
      "Epoch 104: | Train Loss: 0.42410 | Val Loss: 0.37327\n",
      "Epoch 105: | Train Loss: 0.42284 | Val Loss: 0.37655\n",
      "Epoch 106: | Train Loss: 0.42273 | Val Loss: 0.37024\n",
      "Epoch 107: | Train Loss: 0.42405 | Val Loss: 0.37341\n",
      "Epoch 108: | Train Loss: 0.42993 | Val Loss: 0.37183\n",
      "Epoch 109: | Train Loss: 0.42672 | Val Loss: 0.36915\n",
      "Epoch 110: | Train Loss: 0.42865 | Val Loss: 0.36595\n",
      "Epoch 111: | Train Loss: 0.41921 | Val Loss: 0.37218\n",
      "Epoch 112: | Train Loss: 0.41933 | Val Loss: 0.36753\n",
      "Epoch 113: | Train Loss: 0.42230 | Val Loss: 0.36997\n",
      "Epoch 114: | Train Loss: 0.42464 | Val Loss: 0.36638\n",
      "Epoch 115: | Train Loss: 0.42330 | Val Loss: 0.36640\n",
      "Epoch 116: | Train Loss: 0.41827 | Val Loss: 0.37775\n",
      "Epoch 117: | Train Loss: 0.42905 | Val Loss: 0.36841\n",
      "Epoch 118: | Train Loss: 0.42593 | Val Loss: 0.36611\n",
      "Epoch 119: | Train Loss: 0.42477 | Val Loss: 0.37117\n",
      "Epoch 120: | Train Loss: 0.42171 | Val Loss: 0.37598\n",
      "Epoch 121: | Train Loss: 0.42035 | Val Loss: 0.37287\n",
      "Epoch 122: | Train Loss: 0.42213 | Val Loss: 0.36545\n",
      "Epoch 123: | Train Loss: 0.41806 | Val Loss: 0.36508\n",
      "Epoch 124: | Train Loss: 0.41864 | Val Loss: 0.36578\n",
      "Epoch 125: | Train Loss: 0.41803 | Val Loss: 0.36876\n",
      "Epoch 126: | Train Loss: 0.41893 | Val Loss: 0.36721\n",
      "Epoch 127: | Train Loss: 0.42008 | Val Loss: 0.36627\n",
      "Epoch 128: | Train Loss: 0.41716 | Val Loss: 0.36900\n",
      "Epoch 129: | Train Loss: 0.42564 | Val Loss: 0.39126\n",
      "Epoch 130: | Train Loss: 0.42449 | Val Loss: 0.36468\n",
      "Epoch 131: | Train Loss: 0.41940 | Val Loss: 0.37148\n",
      "Epoch 132: | Train Loss: 0.42282 | Val Loss: 0.37138\n",
      "Epoch 133: | Train Loss: 0.42155 | Val Loss: 0.36739\n",
      "Epoch 134: | Train Loss: 0.41701 | Val Loss: 0.36573\n",
      "Epoch 135: | Train Loss: 0.42269 | Val Loss: 0.36392\n",
      "Epoch 136: | Train Loss: 0.42120 | Val Loss: 0.37675\n",
      "Epoch 137: | Train Loss: 0.42012 | Val Loss: 0.36409\n",
      "Epoch 138: | Train Loss: 0.42134 | Val Loss: 0.36528\n",
      "Epoch 139: | Train Loss: 0.41661 | Val Loss: 0.36358\n",
      "Epoch 140: | Train Loss: 0.42251 | Val Loss: 0.38300\n",
      "Epoch 141: | Train Loss: 0.42318 | Val Loss: 0.36378\n",
      "Epoch 142: | Train Loss: 0.41861 | Val Loss: 0.36411\n",
      "Epoch 143: | Train Loss: 0.42307 | Val Loss: 0.36370\n",
      "Epoch 144: | Train Loss: 0.41623 | Val Loss: 0.36326\n",
      "Epoch 145: | Train Loss: 0.41924 | Val Loss: 0.36456\n",
      "Epoch 146: | Train Loss: 0.42744 | Val Loss: 0.37303\n",
      "Epoch 147: | Train Loss: 0.42434 | Val Loss: 0.37122\n",
      "Epoch 148: | Train Loss: 0.42477 | Val Loss: 0.36332\n",
      "Epoch 149: | Train Loss: 0.41947 | Val Loss: 0.36642\n",
      "Epoch 150: | Train Loss: 0.41629 | Val Loss: 0.36553\n",
      "\n"
     ]
    }
   ],
   "source": [
    "print(\"Begin training.\")\n",
    "\n",
    "for e in tqdm(range(1, EPOCHS+1)):\n",
    "    \n",
    "    # TRAINING\n",
    "    train_epoch_loss = 0\n",
    "\n",
    "    model.train()\n",
    "    for X_train_batch, y_train_batch in train_loader:\n",
    "        X_train_batch, y_train_batch = X_train_batch.to(device), y_train_batch.to(device)\n",
    "        optimizer.zero_grad()\n",
    "        \n",
    "        y_train_pred = model(X_train_batch)\n",
    "        \n",
    "        train_loss = criterion(y_train_pred, y_train_batch.unsqueeze(1))\n",
    "        \n",
    "        train_loss.backward()\n",
    "        optimizer.step()\n",
    "        \n",
    "        train_epoch_loss += train_loss.item()\n",
    "        \n",
    "        \n",
    "    # VALIDATION    \n",
    "    with torch.no_grad():\n",
    "        \n",
    "        val_epoch_loss = 0\n",
    "        \n",
    "        model.eval()\n",
    "        for X_val_batch, y_val_batch in val_loader:\n",
    "            X_val_batch, y_val_batch = X_val_batch.to(device), y_val_batch.to(device)\n",
    "            \n",
    "            y_val_pred = model(X_val_batch)\n",
    "                        \n",
    "            val_loss = criterion(y_val_pred, y_val_batch.unsqueeze(1))\n",
    "            \n",
    "            val_epoch_loss += val_loss.item()\n",
    "\n",
    "    \n",
    "        \n",
    "    loss_stats['train'].append(train_epoch_loss/len(train_loader))\n",
    "    loss_stats['val'].append(val_epoch_loss/len(val_loader))                              \n",
    "    \n",
    "    print(f'Epoch {e+0:03}: | Train Loss: {train_epoch_loss/len(train_loader):.5f} | Val Loss: {val_epoch_loss/len(val_loader):.5f}')"
   ]
  },
  {
   "cell_type": "code",
   "execution_count": 31,
   "metadata": {},
   "outputs": [],
   "source": [
    "train_val_loss_df = pd.DataFrame.from_dict(loss_stats).reset_index().melt(id_vars=['index']).rename(columns={\"index\":\"epochs\"})\n"
   ]
  },
  {
   "cell_type": "code",
   "execution_count": 36,
   "metadata": {},
   "outputs": [
    {
     "data": {
      "image/png": "[encoded data removed]",
      "text/plain": [
       "<Figure size 432x288 with 1 Axes>"
      ]
     },
     "metadata": {
      "needs_background": "light"
     },
     "output_type": "display_data"
    }
   ],
   "source": [
    "sns.lineplot(data=train_val_loss_df, x = \"epochs\", y=\"value\", hue=\"variable\").set_title('Train-Val Loss/Epoch')\n",
    "plt.grid(alpha=0.3)\n",
    "plt.show()"
   ]
  },
  {
   "cell_type": "code",
   "execution_count": 33,
   "metadata": {},
   "outputs": [],
   "source": [
    "y_pred_list = []\n",
    "\n",
    "with torch.no_grad():\n",
    "    model.eval()\n",
    "    for X_batch, _ in test_loader:\n",
    "        X_batch = X_batch.to(device)\n",
    "        y_test_pred = model(X_batch)\n",
    "        y_pred_list.append(y_test_pred.cpu().numpy())"
   ]
  },
  {
   "cell_type": "code",
   "execution_count": 34,
   "metadata": {},
   "outputs": [],
   "source": [
    "y_pred_list = [a.squeeze().tolist() for a in y_pred_list]"
   ]
  },
  {
   "cell_type": "code",
   "execution_count": 35,
   "metadata": {},
   "outputs": [
    {
     "name": "stdout",
     "output_type": "stream",
     "text": [
      "Mean Squared Error : 0.4137783683461592\n",
      "R^2 : 0.3587549954802547\n"
     ]
    }
   ],
   "source": [
    "mse = mean_squared_error(y_test, y_pred_list)\n",
    "r_square = r2_score(y_test, y_pred_list)\n",
    "\n",
    "print(\"Mean Squared Error :\",mse)\n",
    "print(\"R^2 :\",r_square)"
   ]
  },
  {
   "cell_type": "code",
   "execution_count": null,
   "metadata": {},
   "outputs": [],
   "source": []
  }
 ],
 "metadata": {
  "kernelspec": {
   "display_name": "Python (py36)",
   "language": "python",
   "name": "py36"
  },
  "language_info": {
   "codemirror_mode": {
    "name": "ipython",
    "version": 3
   },
   "file_extension": ".py",
   "mimetype": "text/x-python",
   "name": "python",
   "nbconvert_exporter": "python",
   "pygments_lexer": "ipython3",
   "version": "3.6.9"
  }
 },
 "nbformat": 4,
 "nbformat_minor": 4
}
